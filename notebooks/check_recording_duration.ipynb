{
 "cells": [
  {
   "cell_type": "markdown",
   "metadata": {},
   "source": [
    "# Check recording duration"
   ]
  },
  {
   "cell_type": "code",
   "execution_count": 1,
   "metadata": {},
   "outputs": [],
   "source": [
    "# Set path to dataset\n",
    "PATH = '../../../datasets/adamatzky_2021/txt'"
   ]
  },
  {
   "cell_type": "code",
   "execution_count": 2,
   "metadata": {},
   "outputs": [],
   "source": [
    "# imports\n",
    "import os\n",
    "import numpy as np\n",
    "import pandas as pd\n"
   ]
  },
  {
   "cell_type": "code",
   "execution_count": 3,
   "metadata": {},
   "outputs": [],
   "source": [
    "# settings\n",
    "FS = 1 # recording frequency in Hz"
   ]
  },
  {
   "cell_type": "code",
   "execution_count": 29,
   "metadata": {},
   "outputs": [],
   "source": [
    "# functions\n",
    "\n",
    "def compute_duration(fs, n_samples, verbose=False):\n",
    "    \"\"\"\n",
    "    Compute and print signal duration.\n",
    "    \"\"\"\n",
    "    \n",
    "    # compute duration\n",
    "    duration = n_samples / fs\n",
    "    days = int(duration // 86400)\n",
    "    hours = int(duration % 86400 // 3600)\n",
    "    minutes = int(duration % 3600 // 60)\n",
    "    seconds = duration % 60\n",
    "\n",
    "    # print results\n",
    "    if verbose:\n",
    "        print(f\"\\tNumber of samples: \\t{n_samples}\")\n",
    "        print(f\"\\tSignal duration: \\t{days} days, {hours} hours, {minutes} minutes, and {seconds:0.2f} seconds\")\n",
    "\n",
    "    return days, hours, minutes, seconds\n",
    "\n"
   ]
  },
  {
   "cell_type": "code",
   "execution_count": 13,
   "metadata": {},
   "outputs": [
    {
     "name": "stdout",
     "output_type": "stream",
     "text": [
      "Sampling frequency: 1\n",
      "\n",
      "cordyceps militari:\n",
      "\tNumber of samples: \t1900145\n",
      "\tSignal duration: \t21 days, 23 hours, 49 minutes, and 5.00 seconds\n",
      "\n",
      "enoki fungi flammulina velutipes:\n",
      "\tNumber of samples: \t1210938\n",
      "\tSignal duration: \t14 days, 0 hours, 22 minutes, and 18.00 seconds\n",
      "\n",
      "ghost fungi omphalotus nidiformis:\n",
      "\tNumber of samples: \t3279569\n",
      "\tSignal duration: \t37 days, 22 hours, 59 minutes, and 29.00 seconds\n",
      "\n",
      "schizophyllum commune:\n",
      "\tNumber of samples: \t263959\n",
      "\tSignal duration: \t3 days, 1 hours, 19 minutes, and 19.00 seconds\n"
     ]
    }
   ],
   "source": [
    "# print duration of each file in dataset\n",
    "\n",
    "print(f\"Sampling frequency: {FS}\")\n",
    "\n",
    "for fname in os.listdir(PATH):\n",
    "    print(f\"\\n{fname.split('.')[0].replace('_', ' ')}:\")\n",
    "    data = pd.read_csv(os.path.join(PATH, fname), sep='\\t')\n",
    "    compute_duration(FS, len(data), True)\n",
    "\n"
   ]
  },
  {
   "cell_type": "code",
   "execution_count": 30,
   "metadata": {},
   "outputs": [
    {
     "data": {
      "text/html": [
       "<div>\n",
       "<style scoped>\n",
       "    .dataframe tbody tr th:only-of-type {\n",
       "        vertical-align: middle;\n",
       "    }\n",
       "\n",
       "    .dataframe tbody tr th {\n",
       "        vertical-align: top;\n",
       "    }\n",
       "\n",
       "    .dataframe thead th {\n",
       "        text-align: right;\n",
       "    }\n",
       "</style>\n",
       "<table border=\"1\" class=\"dataframe\">\n",
       "  <thead>\n",
       "    <tr style=\"text-align: right;\">\n",
       "      <th></th>\n",
       "      <th>species</th>\n",
       "      <th>n_samples</th>\n",
       "      <th>days</th>\n",
       "      <th>hours</th>\n",
       "      <th>minutes</th>\n",
       "      <th>seconds</th>\n",
       "    </tr>\n",
       "  </thead>\n",
       "  <tbody>\n",
       "    <tr>\n",
       "      <th>0</th>\n",
       "      <td>cordyceps militari</td>\n",
       "      <td>1900145</td>\n",
       "      <td>21</td>\n",
       "      <td>23</td>\n",
       "      <td>49</td>\n",
       "      <td>5.0</td>\n",
       "    </tr>\n",
       "    <tr>\n",
       "      <th>1</th>\n",
       "      <td>enoki fungi flammulina velutipes</td>\n",
       "      <td>1210938</td>\n",
       "      <td>14</td>\n",
       "      <td>0</td>\n",
       "      <td>22</td>\n",
       "      <td>18.0</td>\n",
       "    </tr>\n",
       "    <tr>\n",
       "      <th>2</th>\n",
       "      <td>ghost fungi omphalotus nidiformis</td>\n",
       "      <td>3279569</td>\n",
       "      <td>37</td>\n",
       "      <td>22</td>\n",
       "      <td>59</td>\n",
       "      <td>29.0</td>\n",
       "    </tr>\n",
       "    <tr>\n",
       "      <th>3</th>\n",
       "      <td>schizophyllum commune</td>\n",
       "      <td>263959</td>\n",
       "      <td>3</td>\n",
       "      <td>1</td>\n",
       "      <td>19</td>\n",
       "      <td>19.0</td>\n",
       "    </tr>\n",
       "  </tbody>\n",
       "</table>\n",
       "</div>"
      ],
      "text/plain": [
       "                             species n_samples days hours minutes  seconds\n",
       "0                 cordyceps militari   1900145   21    23      49      5.0\n",
       "1   enoki fungi flammulina velutipes   1210938   14     0      22     18.0\n",
       "2  ghost fungi omphalotus nidiformis   3279569   37    22      59     29.0\n",
       "3              schizophyllum commune    263959    3     1      19     19.0"
      ]
     },
     "execution_count": 30,
     "metadata": {},
     "output_type": "execute_result"
    }
   ],
   "source": [
    "# compute duration of each file in dataset\n",
    "\n",
    "columns = [\"species\", \"n_samples\", \"days\", \"hours\", \"minutes\", \"seconds\"]\n",
    "\n",
    "df = pd.DataFrame(columns=columns)\n",
    "for i_file, fname in enumerate(os.listdir(PATH)):\n",
    "    data = pd.read_csv(os.path.join(PATH, fname), sep='\\t')\n",
    "    results = compute_duration(FS, len(data))\n",
    "    row = [fname.split('.')[0].replace('_', ' '), len(data), *results]\n",
    "    df_i = pd.DataFrame([row], columns=columns, index=[i_file])\n",
    "    df = pd.concat([df, df_i])\n",
    "df\n"
   ]
  }
 ],
 "metadata": {
  "kernelspec": {
   "display_name": "Python 3",
   "language": "python",
   "name": "python3"
  },
  "language_info": {
   "codemirror_mode": {
    "name": "ipython",
    "version": 3
   },
   "file_extension": ".py",
   "mimetype": "text/x-python",
   "name": "python",
   "nbconvert_exporter": "python",
   "pygments_lexer": "ipython3",
   "version": "3.10.4"
  }
 },
 "nbformat": 4,
 "nbformat_minor": 2
}
